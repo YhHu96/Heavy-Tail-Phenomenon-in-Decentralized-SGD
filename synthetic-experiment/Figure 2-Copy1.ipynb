{
 "cells": [
  {
   "cell_type": "code",
   "execution_count": 1,
   "id": "2c51c165",
   "metadata": {},
   "outputs": [],
   "source": [
    "import numpy as np\n",
    "\n",
    "N = 10\n",
    "eta = 0.1\n",
    "num = 1000\n",
    "var = 1\n",
    "\n",
    "case = 0\n",
    "for i in range(num):\n",
    "    ais = np.random.normal(0,var,N)\n",
    "    ais = ais ** 2\n",
    "    temp = np.max(ais) + np.min(ais)\n",
    "    if temp < 2/eta:\n",
    "        case += 1\n",
    "prob = case/num"
   ]
  },
  {
   "cell_type": "code",
   "execution_count": 2,
   "id": "0e14b751",
   "metadata": {},
   "outputs": [],
   "source": [
    "def calcul_prob(N,num,eta,var):\n",
    "    case = 0\n",
    "    for i in range(num):\n",
    "        ais = np.random.normal(0,var,N)\n",
    "        ais = ais ** 2\n",
    "        temp = np.max(ais) + np.min(ais)\n",
    "        if temp < 2/eta:\n",
    "            case += 1\n",
    "    prob = case/num\n",
    "    return prob\n",
    "\n",
    "def calcul_prob_gen(N,num, eta, var, dim, batch):\n",
    "    case = 0\n",
    "    for i in range(num):\n",
    "        hi_star = np.zeros((dim,dim))\n",
    "        sigma_max = 0\n",
    "        for n in range(N):\n",
    "            his = np.zeros((dim,dim))\n",
    "            for j in range(batch):\n",
    "                ais = np.random.normal(0,var,(dim,1))\n",
    "                his += ais @ ais.T / batch\n",
    "            tmp_norm = np.linalg.norm(np.identity(dim) - eta * his)\n",
    "            if tmp_norm >= sigma_max:\n",
    "                sigma_max = tmp_norm\n",
    "                hi_star = his\n",
    "        eig_list = np.linalg.eig(hi_star)[0]\n",
    "        eig_max = 0\n",
    "        itm_max = 0\n",
    "        for item in eig_list:\n",
    "            tmp = np.abs(1 - eta * item)\n",
    "            if tmp >= itm_max:\n",
    "                eig_max = item\n",
    "                itm_max = tmp\n",
    "        if eig_max< (1/eta):\n",
    "            case += 1\n",
    "    prob = case/num\n",
    "    return prob\n",
    "            \n",
    "\n",
    "def calcul_rho(N, num, eta, var, dim, batch):\n",
    "#     N = 30\n",
    "    tmp_list = []\n",
    "    for i in range(num):\n",
    "        his = np.zeros((dim,dim))\n",
    "        for j in range(batch):\n",
    "            ais = np.random.normal(0,var,(dim,1))\n",
    "            his += ais @ ais.T / batch\n",
    "        Id = np.kron(np.identity(dim), np.identity(N))\n",
    "        H = np.kron( np.identity(N), his)\n",
    "#         ais = np.random.normal(0,var,dim)\n",
    "#         his = np.dot(ais.T, ais) / batch\n",
    "#         h_list = h_list ** 2\n",
    "#         H = np.diag(h_list)\n",
    "        tmp_H = Id - eta * H\n",
    "#         print(tmp_H)\n",
    "        tmp_list.append(np.log(np.linalg.norm(tmp_H[0])))\n",
    "#         print(np.log(np.linalg.det(tmp_H)))\n",
    "#     print(H)\n",
    "#     print(np.linalg.norm(tmp_H))\n",
    "    return np.mean(tmp_list)"
   ]
  },
  {
   "cell_type": "code",
   "execution_count": 3,
   "id": "5ca5294c",
   "metadata": {},
   "outputs": [
    {
     "name": "stdout",
     "output_type": "stream",
     "text": [
      "0\n",
      "1\n",
      "2\n",
      "3\n",
      "4\n",
      "5\n",
      "6\n"
     ]
    }
   ],
   "source": [
    "N_list = [1,5,10,15,20,25,30]\n",
    "# eta_list = np.linspace(0,0.1,10)\n",
    "eta_list = np.linspace(0.25,0.35,10)\n",
    "prob_list = np.zeros((len(N_list), len(eta_list)))\n",
    "rho_list = np.zeros(len(eta_list))\n",
    "num = 5000\n",
    "var = 1.3\n",
    "dim = 100\n",
    "batch = 100\n",
    "\n",
    "for i in range(len(N_list)):\n",
    "    print(i)\n",
    "    for j in range(len(eta_list)):\n",
    "        N = N_list[i]\n",
    "        eta = eta_list[j]\n",
    "        prob_list[i][j] =2* calcul_prob_gen(N,num,eta,var, dim, batch) - 1\n",
    "    rho_list[j] = calcul_rho(N, num, eta,var, dim, batch)"
   ]
  },
  {
   "cell_type": "code",
   "execution_count": 4,
   "id": "5e0b3de4",
   "metadata": {},
   "outputs": [
    {
     "data": {
      "text/plain": [
       "array([ 0.        ,  0.        ,  0.        ,  0.        ,  0.        ,\n",
       "        0.        ,  0.        ,  0.        ,  0.        , -0.32969216])"
      ]
     },
     "execution_count": 4,
     "metadata": {},
     "output_type": "execute_result"
    }
   ],
   "source": [
    "rho_list"
   ]
  },
  {
   "cell_type": "code",
   "execution_count": 5,
   "id": "5c1a4494",
   "metadata": {},
   "outputs": [
    {
     "data": {
      "text/html": [
       "<div>\n",
       "<style scoped>\n",
       "    .dataframe tbody tr th:only-of-type {\n",
       "        vertical-align: middle;\n",
       "    }\n",
       "\n",
       "    .dataframe tbody tr th {\n",
       "        vertical-align: top;\n",
       "    }\n",
       "\n",
       "    .dataframe thead th {\n",
       "        text-align: right;\n",
       "    }\n",
       "</style>\n",
       "<table border=\"1\" class=\"dataframe\">\n",
       "  <thead>\n",
       "    <tr style=\"text-align: right;\">\n",
       "      <th></th>\n",
       "      <th>$\\eta=$0.25</th>\n",
       "      <th>$\\eta=$0.2611111111111111</th>\n",
       "      <th>$\\eta=$0.2722222222222222</th>\n",
       "      <th>$\\eta=$0.2833333333333333</th>\n",
       "      <th>$\\eta=$0.29444444444444445</th>\n",
       "      <th>$\\eta=$0.3055555555555555</th>\n",
       "      <th>$\\eta=$0.31666666666666665</th>\n",
       "      <th>$\\eta=$0.3277777777777777</th>\n",
       "      <th>$\\eta=$0.33888888888888885</th>\n",
       "      <th>$\\eta=$0.35</th>\n",
       "    </tr>\n",
       "  </thead>\n",
       "  <tbody>\n",
       "    <tr>\n",
       "      <th>N=1</th>\n",
       "      <td>1.0</td>\n",
       "      <td>1.0000</td>\n",
       "      <td>0.9972</td>\n",
       "      <td>0.9624</td>\n",
       "      <td>0.7776</td>\n",
       "      <td>0.2180</td>\n",
       "      <td>-0.5136</td>\n",
       "      <td>-0.8976</td>\n",
       "      <td>-0.9948</td>\n",
       "      <td>-0.9996</td>\n",
       "    </tr>\n",
       "    <tr>\n",
       "      <th>N=5</th>\n",
       "      <td>1.0</td>\n",
       "      <td>1.0000</td>\n",
       "      <td>0.9932</td>\n",
       "      <td>0.9000</td>\n",
       "      <td>0.5180</td>\n",
       "      <td>-0.2684</td>\n",
       "      <td>-0.8704</td>\n",
       "      <td>-0.9948</td>\n",
       "      <td>-1.0000</td>\n",
       "      <td>-1.0000</td>\n",
       "    </tr>\n",
       "    <tr>\n",
       "      <th>N=10</th>\n",
       "      <td>1.0</td>\n",
       "      <td>0.9996</td>\n",
       "      <td>0.9888</td>\n",
       "      <td>0.8660</td>\n",
       "      <td>0.3848</td>\n",
       "      <td>-0.4492</td>\n",
       "      <td>-0.9252</td>\n",
       "      <td>-0.9976</td>\n",
       "      <td>-1.0000</td>\n",
       "      <td>-1.0000</td>\n",
       "    </tr>\n",
       "    <tr>\n",
       "      <th>N=15</th>\n",
       "      <td>1.0</td>\n",
       "      <td>0.9996</td>\n",
       "      <td>0.9856</td>\n",
       "      <td>0.8552</td>\n",
       "      <td>0.3076</td>\n",
       "      <td>-0.5432</td>\n",
       "      <td>-0.9532</td>\n",
       "      <td>-0.9988</td>\n",
       "      <td>-1.0000</td>\n",
       "      <td>-1.0000</td>\n",
       "    </tr>\n",
       "    <tr>\n",
       "      <th>N=20</th>\n",
       "      <td>1.0</td>\n",
       "      <td>0.9992</td>\n",
       "      <td>0.9832</td>\n",
       "      <td>0.8196</td>\n",
       "      <td>0.2248</td>\n",
       "      <td>-0.5908</td>\n",
       "      <td>-0.9604</td>\n",
       "      <td>-0.9996</td>\n",
       "      <td>-1.0000</td>\n",
       "      <td>-1.0000</td>\n",
       "    </tr>\n",
       "    <tr>\n",
       "      <th>N=25</th>\n",
       "      <td>1.0</td>\n",
       "      <td>0.9980</td>\n",
       "      <td>0.9788</td>\n",
       "      <td>0.8092</td>\n",
       "      <td>0.1832</td>\n",
       "      <td>-0.6060</td>\n",
       "      <td>-0.9704</td>\n",
       "      <td>-0.9996</td>\n",
       "      <td>-1.0000</td>\n",
       "      <td>-1.0000</td>\n",
       "    </tr>\n",
       "    <tr>\n",
       "      <th>N=30</th>\n",
       "      <td>1.0</td>\n",
       "      <td>0.9992</td>\n",
       "      <td>0.9768</td>\n",
       "      <td>0.7912</td>\n",
       "      <td>0.2052</td>\n",
       "      <td>-0.6508</td>\n",
       "      <td>-0.9728</td>\n",
       "      <td>-1.0000</td>\n",
       "      <td>-1.0000</td>\n",
       "      <td>-1.0000</td>\n",
       "    </tr>\n",
       "  </tbody>\n",
       "</table>\n",
       "</div>"
      ],
      "text/plain": [
       "      $\\eta=$0.25  $\\eta=$0.2611111111111111  $\\eta=$0.2722222222222222  \\\n",
       "N=1           1.0                     1.0000                     0.9972   \n",
       "N=5           1.0                     1.0000                     0.9932   \n",
       "N=10          1.0                     0.9996                     0.9888   \n",
       "N=15          1.0                     0.9996                     0.9856   \n",
       "N=20          1.0                     0.9992                     0.9832   \n",
       "N=25          1.0                     0.9980                     0.9788   \n",
       "N=30          1.0                     0.9992                     0.9768   \n",
       "\n",
       "      $\\eta=$0.2833333333333333  $\\eta=$0.29444444444444445  \\\n",
       "N=1                      0.9624                      0.7776   \n",
       "N=5                      0.9000                      0.5180   \n",
       "N=10                     0.8660                      0.3848   \n",
       "N=15                     0.8552                      0.3076   \n",
       "N=20                     0.8196                      0.2248   \n",
       "N=25                     0.8092                      0.1832   \n",
       "N=30                     0.7912                      0.2052   \n",
       "\n",
       "      $\\eta=$0.3055555555555555  $\\eta=$0.31666666666666665  \\\n",
       "N=1                      0.2180                     -0.5136   \n",
       "N=5                     -0.2684                     -0.8704   \n",
       "N=10                    -0.4492                     -0.9252   \n",
       "N=15                    -0.5432                     -0.9532   \n",
       "N=20                    -0.5908                     -0.9604   \n",
       "N=25                    -0.6060                     -0.9704   \n",
       "N=30                    -0.6508                     -0.9728   \n",
       "\n",
       "      $\\eta=$0.3277777777777777  $\\eta=$0.33888888888888885  $\\eta=$0.35  \n",
       "N=1                     -0.8976                     -0.9948      -0.9996  \n",
       "N=5                     -0.9948                     -1.0000      -1.0000  \n",
       "N=10                    -0.9976                     -1.0000      -1.0000  \n",
       "N=15                    -0.9988                     -1.0000      -1.0000  \n",
       "N=20                    -0.9996                     -1.0000      -1.0000  \n",
       "N=25                    -0.9996                     -1.0000      -1.0000  \n",
       "N=30                    -1.0000                     -1.0000      -1.0000  "
      ]
     },
     "execution_count": 5,
     "metadata": {},
     "output_type": "execute_result"
    }
   ],
   "source": [
    "N_name = []\n",
    "for i in N_list:\n",
    "    N_name.append('N='+str(i))\n",
    "eta_name = []\n",
    "for j in eta_list:\n",
    "    eta_name.append(r'$\\eta=$'+str(j))\n",
    "import pandas as pd\n",
    "df = pd.DataFrame(data = prob_list, index=N_name, columns = eta_name)\n",
    "df"
   ]
  },
  {
   "cell_type": "code",
   "execution_count": 9,
   "id": "d1cde346",
   "metadata": {},
   "outputs": [
    {
     "data": {
      "text/plain": [
       "array([[ 3.    ,  3.    ,  2.9968,  1.1968, -4.8896, -5.    , -5.    ,\n",
       "        -5.    , -5.    , -5.    ],\n",
       "       [ 3.    ,  3.    ,  2.984 , -0.4528, -5.    , -5.    , -5.    ,\n",
       "        -5.    , -5.    , -5.    ],\n",
       "       [ 3.    ,  3.    ,  2.9824, -1.2224, -5.    , -5.    , -5.    ,\n",
       "        -5.    , -5.    , -5.    ],\n",
       "       [ 3.    ,  3.    ,  2.9808, -1.5152, -5.    , -5.    , -5.    ,\n",
       "        -5.    , -5.    , -5.    ],\n",
       "       [ 3.    ,  3.    ,  2.9856, -1.7296, -5.    , -5.    , -5.    ,\n",
       "        -5.    , -5.    , -5.    ],\n",
       "       [ 3.    ,  3.    ,  2.9824, -1.944 , -5.    , -5.    , -5.    ,\n",
       "        -5.    , -5.    , -5.    ],\n",
       "       [ 3.    ,  3.    ,  2.9744, -2.0064, -5.    , -5.    , -5.    ,\n",
       "        -5.    , -5.    , -5.    ]])"
      ]
     },
     "execution_count": 9,
     "metadata": {},
     "output_type": "execute_result"
    }
   ],
   "source": [
    "prob_list"
   ]
  },
  {
   "cell_type": "code",
   "execution_count": 10,
   "id": "f022eb94",
   "metadata": {},
   "outputs": [
    {
     "name": "stderr",
     "output_type": "stream",
     "text": [
      "C:\\ProgramData\\Anaconda3\\lib\\site-packages\\ipykernel_launcher.py:28: UserWarning: linewidths is ignored by contourf\n"
     ]
    },
    {
     "data": {
      "text/plain": [
       "<Figure size 432x288 with 0 Axes>"
      ]
     },
     "execution_count": 10,
     "metadata": {},
     "output_type": "execute_result"
    },
    {
     "data": {
      "image/png": "[encoded data removed]",
      "text/plain": [
       "<Figure size 720x540 with 1 Axes>"
      ]
     },
     "metadata": {
      "needs_background": "light"
     },
     "output_type": "display_data"
    },
    {
     "data": {
      "text/plain": [
       "<Figure size 432x288 with 0 Axes>"
      ]
     },
     "metadata": {},
     "output_type": "display_data"
    }
   ],
   "source": [
    "# sigma = 1.3\n",
    "import numpy as np\n",
    "prob_list = np.array([[ 3.    ,  3.    ,  2.9968,  1.1968, -4.8896, -5.    , -5.    ,\n",
    "        -5.    , -5.    , -5.    ],\n",
    "       [ 3.    ,  3.    ,  2.984 , -0.4528, -5.    , -5.    , -5.    ,\n",
    "        -5.    , -5.    , -5.    ],\n",
    "       [ 3.    ,  3.    ,  2.9824, -1.2224, -5.    , -5.    , -5.    ,\n",
    "        -5.    , -5.    , -5.    ],\n",
    "       [ 3.    ,  3.    ,  2.9808, -1.5152, -5.    , -5.    , -5.    ,\n",
    "        -5.    , -5.    , -5.    ],\n",
    "       [ 3.    ,  3.    ,  2.9856, -1.7296, -5.    , -5.    , -5.    ,\n",
    "        -5.    , -5.    , -5.    ],\n",
    "       [ 3.    ,  3.    ,  2.9824, -1.944 , -5.    , -5.    , -5.    ,\n",
    "        -5.    , -5.    , -5.    ],\n",
    "       [ 3.    ,  3.    ,  2.9744, -2.0064, -5.    , -5.    , -5.    ,\n",
    "        -5.    , -5.    , -5.    ]])\n",
    "tmp_list = np.array([ 0.        ,  0.        ,  0.        ,  0.        ,  0.        ,\n",
    "        0.        ,  0.        ,  0.        ,  0.        , -0.34084314])\n",
    "rho_list = [tmp_list, tmp_list, tmp_list, tmp_list, tmp_list, tmp_list, tmp_list]\n",
    "prob_list = 1-2*prob_list\n",
    "import matplotlib.pyplot as plt\n",
    "fig=plt.figure(figsize=(10,7.5))\n",
    "Y = np.array( [1,5,10,15,20,25,30])\n",
    "X = np.linspace(0.45,0.55,10)\n",
    "# xx, yy = np.meshgrid(X, Y)\n",
    "# zz = calcul_prob(xx, num, yy, var)\n",
    "# fig=plt.figure(figsize=(8,8))\n",
    "C = plt.contourf(X, Y, prob_list, linewidths = (2))\n",
    "plt.clabel(C, fmt='%2.1f', colors='w', fontsize=14, inline = False)\n",
    "plt.contour(X, Y, prob_list, [0.], colors = 'r', linewidths = (3))\n",
    "# plt.contour(X, Y, rho_list, [0.], colors = 'orange', linewidths = (3))\n",
    "plt.xlabel(r'Stepsize $\\eta$',fontsize=25)\n",
    "plt.ylabel(r'Nodes $N$',fontsize=25)\n",
    "plt.tick_params(labelsize=25)\n",
    "\n",
    "# plt.text(0.45, 7, r'$\\hat{\\rho}_{dis}<0 $', fontsize = 25, color = 'w')\n",
    "# plt.text(0.5, 5, r'$\\hat{\\rho}_{dis}>0$:'+'\\n'+'Dis-SGD diverges.', fontsize = 25, color = 'w')\n",
    "\n",
    "plt.figure()"
   ]
  },
  {
   "cell_type": "code",
   "execution_count": 8,
   "id": "e17caae2",
   "metadata": {},
   "outputs": [
    {
     "name": "stderr",
     "output_type": "stream",
     "text": [
      "C:\\ProgramData\\Anaconda3\\lib\\site-packages\\ipykernel_launcher.py:28: UserWarning: linewidths is ignored by contourf\n"
     ]
    },
    {
     "data": {
      "text/plain": [
       "<Figure size 432x288 with 0 Axes>"
      ]
     },
     "execution_count": 8,
     "metadata": {},
     "output_type": "execute_result"
    },
    {
     "data": {
      "image/png": "[encoded data removed]",
      "text/plain": [
       "<Figure size 720x540 with 1 Axes>"
      ]
     },
     "metadata": {
      "needs_background": "light"
     },
     "output_type": "display_data"
    },
    {
     "data": {
      "text/plain": [
       "<Figure size 432x288 with 0 Axes>"
      ]
     },
     "metadata": {},
     "output_type": "display_data"
    }
   ],
   "source": [
    "# sigma = 1.3\n",
    "import numpy as np\n",
    "prob_list = np.array([[-1.    , -1.    , -0.9984, -0.0984,  2.9448,  3.    ,  3.    ,\n",
    "         3.    ,  3.    ,  3.    ],\n",
    "       [-1.    , -1.    , -0.992 ,  0.7264,  3.    ,  3.    ,  3.    ,\n",
    "         3.    ,  3.    ,  3.    ],\n",
    "       [-1.    , -1.    , -0.9912,  1.1112,  3.    ,  3.    ,  3.    ,\n",
    "         3.    ,  3.    ,  3.    ],\n",
    "       [-1.    , -1.    , -0.9904,  1.2576,  3.    ,  3.    ,  3.    ,\n",
    "         3.    ,  3.    ,  3.    ],\n",
    "       [-1.    , -1.    , -0.9928,  1.3648,  3.    ,  3.    ,  3.    ,\n",
    "         3.    ,  3.    ,  3.    ],\n",
    "       [-1.    , -1.    , -0.9912,  1.472 ,  3.    ,  3.    ,  3.    ,\n",
    "         3.    ,  3.    ,  3.    ],\n",
    "       [-1.    , -1.    , -0.9872,  1.5032,  3.    ,  3.    ,  3.    ,\n",
    "         3.    ,  3.    ,  3.    ]])\n",
    "tmp_list = np.array([ 0.        ,  0.        ,  0.        ,  0.        ,  0.        ,\n",
    "        0.        ,  0.        ,  0.        ,  0.        , -0.34084314])\n",
    "rho_list = [tmp_list, tmp_list, tmp_list, tmp_list, tmp_list, tmp_list, tmp_list]\n",
    "prob_list = 1-2*prob_list\n",
    "import matplotlib.pyplot as plt\n",
    "fig=plt.figure(figsize=(10,7.5))\n",
    "Y = np.array( [1,5,10,15,20,25,30])\n",
    "X = np.linspace(0.45,0.55,10)\n",
    "# xx, yy = np.meshgrid(X, Y)\n",
    "# zz = calcul_prob(xx, num, yy, var)\n",
    "# fig=plt.figure(figsize=(8,8))\n",
    "C = plt.contourf(X, Y, prob_list, linewidths = (2))\n",
    "plt.clabel(C, fmt='%2.1f', colors='w', fontsize=14, inline = False)\n",
    "plt.contour(X, Y, prob_list, [0.], colors = 'r', linewidths = (3))\n",
    "# plt.contour(X, Y, rho_list, [0.], colors = 'orange', linewidths = (3))\n",
    "plt.xlabel(r'Stepsize $\\eta$',fontsize=25)\n",
    "plt.ylabel(r'Nodes $N$',fontsize=25)\n",
    "plt.tick_params(labelsize=25)\n",
    "\n",
    "# plt.text(0.45, 7, r'$\\hat{\\rho}_{dis}<0 $', fontsize = 25, color = 'w')\n",
    "# plt.text(0.5, 5, r'$\\hat{\\rho}_{dis}>0$:'+'\\n'+'Dis-SGD diverges.', fontsize = 25, color = 'w')\n",
    "\n",
    "plt.figure()"
   ]
  },
  {
   "cell_type": "code",
   "execution_count": 6,
   "id": "424fc09b",
   "metadata": {},
   "outputs": [
    {
     "data": {
      "text/plain": [
       "array([[ 1.    ,  1.    ,  0.9992,  0.5492, -0.9724, -1.    , -1.    ,\n",
       "        -1.    , -1.    , -1.    ],\n",
       "       [ 1.    ,  1.    ,  0.996 ,  0.1368, -1.    , -1.    , -1.    ,\n",
       "        -1.    , -1.    , -1.    ],\n",
       "       [ 1.    ,  1.    ,  0.9956, -0.0556, -1.    , -1.    , -1.    ,\n",
       "        -1.    , -1.    , -1.    ],\n",
       "       [ 1.    ,  1.    ,  0.9952, -0.1288, -1.    , -1.    , -1.    ,\n",
       "        -1.    , -1.    , -1.    ],\n",
       "       [ 1.    ,  1.    ,  0.9964, -0.1824, -1.    , -1.    , -1.    ,\n",
       "        -1.    , -1.    , -1.    ],\n",
       "       [ 1.    ,  1.    ,  0.9956, -0.236 , -1.    , -1.    , -1.    ,\n",
       "        -1.    , -1.    , -1.    ],\n",
       "       [ 1.    ,  1.    ,  0.9936, -0.2516, -1.    , -1.    , -1.    ,\n",
       "        -1.    , -1.    , -1.    ]])"
      ]
     },
     "execution_count": 6,
     "metadata": {},
     "output_type": "execute_result"
    }
   ],
   "source": [
    "prob_list"
   ]
  },
  {
   "cell_type": "code",
   "execution_count": 7,
   "id": "b8cd6655",
   "metadata": {},
   "outputs": [
    {
     "name": "stderr",
     "output_type": "stream",
     "text": [
      "C:\\ProgramData\\Anaconda3\\lib\\site-packages\\ipykernel_launcher.py:28: UserWarning: linewidths is ignored by contourf\n"
     ]
    },
    {
     "data": {
      "text/plain": [
       "<Figure size 432x288 with 0 Axes>"
      ]
     },
     "execution_count": 7,
     "metadata": {},
     "output_type": "execute_result"
    },
    {
     "data": {
      "image/png": "[encoded data removed]",
      "text/plain": [
       "<Figure size 720x540 with 1 Axes>"
      ]
     },
     "metadata": {
      "needs_background": "light"
     },
     "output_type": "display_data"
    },
    {
     "data": {
      "text/plain": [
       "<Figure size 432x288 with 0 Axes>"
      ]
     },
     "metadata": {},
     "output_type": "display_data"
    }
   ],
   "source": [
    "# sigma = 1.3\n",
    "import numpy as np\n",
    "prob_list = np.array([[ 1.    ,  1.    ,  0.9992,  0.5492, -0.9724, -1.    , -1.    ,\n",
    "        -1.    , -1.    , -1.    ],\n",
    "       [ 1.    ,  1.    ,  0.996 ,  0.1368, -1.    , -1.    , -1.    ,\n",
    "        -1.    , -1.    , -1.    ],\n",
    "       [ 1.    ,  1.    ,  0.9956, -0.0556, -1.    , -1.    , -1.    ,\n",
    "        -1.    , -1.    , -1.    ],\n",
    "       [ 1.    ,  1.    ,  0.9952, -0.1288, -1.    , -1.    , -1.    ,\n",
    "        -1.    , -1.    , -1.    ],\n",
    "       [ 1.    ,  1.    ,  0.9964, -0.1824, -1.    , -1.    , -1.    ,\n",
    "        -1.    , -1.    , -1.    ],\n",
    "       [ 1.    ,  1.    ,  0.9956, -0.236 , -1.    , -1.    , -1.    ,\n",
    "        -1.    , -1.    , -1.    ],\n",
    "       [ 1.    ,  1.    ,  0.9936, -0.2516, -1.    , -1.    , -1.    ,\n",
    "        -1.    , -1.    , -1.    ]])\n",
    "tmp_list = np.array([ 0.        ,  0.        ,  0.        ,  0.        ,  0.        ,\n",
    "        0.        ,  0.        ,  0.        ,  0.        , -0.34084314])\n",
    "rho_list = [tmp_list, tmp_list, tmp_list, tmp_list, tmp_list, tmp_list, tmp_list]\n",
    "prob_list = 1-2*prob_list\n",
    "import matplotlib.pyplot as plt\n",
    "fig=plt.figure(figsize=(10,7.5))\n",
    "Y = np.array( [1,5,10,15,20,25,30])\n",
    "X = np.linspace(0.45,0.55,10)\n",
    "# xx, yy = np.meshgrid(X, Y)\n",
    "# zz = calcul_prob(xx, num, yy, var)\n",
    "# fig=plt.figure(figsize=(8,8))\n",
    "C = plt.contourf(X, Y, prob_list, linewidths = (2))\n",
    "plt.clabel(C, fmt='%2.1f', colors='w', fontsize=14, inline = False)\n",
    "plt.contour(X, Y, prob_list, [0.], colors = 'r', linewidths = (3))\n",
    "# plt.contour(X, Y, rho_list, [0.], colors = 'orange', linewidths = (3))\n",
    "plt.xlabel(r'Stepsize $\\eta$',fontsize=25)\n",
    "plt.ylabel(r'Nodes $N$',fontsize=25)\n",
    "plt.tick_params(labelsize=25)\n",
    "\n",
    "# plt.text(0.45, 7, r'$\\hat{\\rho}_{dis}<0 $', fontsize = 25, color = 'w')\n",
    "# plt.text(0.5, 5, r'$\\hat{\\rho}_{dis}>0$:'+'\\n'+'Dis-SGD diverges.', fontsize = 25, color = 'w')\n",
    "\n",
    "plt.figure()"
   ]
  },
  {
   "cell_type": "code",
   "execution_count": 5,
   "id": "e038e27b",
   "metadata": {},
   "outputs": [
    {
     "data": {
      "text/html": [
       "<div>\n",
       "<style scoped>\n",
       "    .dataframe tbody tr th:only-of-type {\n",
       "        vertical-align: middle;\n",
       "    }\n",
       "\n",
       "    .dataframe tbody tr th {\n",
       "        vertical-align: top;\n",
       "    }\n",
       "\n",
       "    .dataframe thead th {\n",
       "        text-align: right;\n",
       "    }\n",
       "</style>\n",
       "<table border=\"1\" class=\"dataframe\">\n",
       "  <thead>\n",
       "    <tr style=\"text-align: right;\">\n",
       "      <th></th>\n",
       "      <th>$\\eta=$0.45</th>\n",
       "      <th>$\\eta=$0.46111111111111114</th>\n",
       "      <th>$\\eta=$0.47222222222222227</th>\n",
       "      <th>$\\eta=$0.48333333333333334</th>\n",
       "      <th>$\\eta=$0.49444444444444446</th>\n",
       "      <th>$\\eta=$0.5055555555555555</th>\n",
       "      <th>$\\eta=$0.5166666666666667</th>\n",
       "      <th>$\\eta=$0.5277777777777778</th>\n",
       "      <th>$\\eta=$0.538888888888889</th>\n",
       "      <th>$\\eta=$0.55</th>\n",
       "    </tr>\n",
       "  </thead>\n",
       "  <tbody>\n",
       "    <tr>\n",
       "      <th>N=1</th>\n",
       "      <td>0.9992</td>\n",
       "      <td>0.9992</td>\n",
       "      <td>0.9848</td>\n",
       "      <td>0.9404</td>\n",
       "      <td>0.8224</td>\n",
       "      <td>0.6020</td>\n",
       "      <td>0.2348</td>\n",
       "      <td>-0.2376</td>\n",
       "      <td>-0.6244</td>\n",
       "      <td>-0.8628</td>\n",
       "    </tr>\n",
       "    <tr>\n",
       "      <th>N=5</th>\n",
       "      <td>0.9984</td>\n",
       "      <td>0.9892</td>\n",
       "      <td>0.9548</td>\n",
       "      <td>0.8532</td>\n",
       "      <td>0.6284</td>\n",
       "      <td>0.1928</td>\n",
       "      <td>-0.2808</td>\n",
       "      <td>-0.6968</td>\n",
       "      <td>-0.9092</td>\n",
       "      <td>-0.9824</td>\n",
       "    </tr>\n",
       "    <tr>\n",
       "      <th>N=10</th>\n",
       "      <td>0.9980</td>\n",
       "      <td>0.9888</td>\n",
       "      <td>0.9348</td>\n",
       "      <td>0.7912</td>\n",
       "      <td>0.4960</td>\n",
       "      <td>0.0452</td>\n",
       "      <td>-0.4644</td>\n",
       "      <td>-0.8248</td>\n",
       "      <td>-0.9580</td>\n",
       "      <td>-0.9960</td>\n",
       "    </tr>\n",
       "    <tr>\n",
       "      <th>N=15</th>\n",
       "      <td>0.9972</td>\n",
       "      <td>0.9820</td>\n",
       "      <td>0.9336</td>\n",
       "      <td>0.7576</td>\n",
       "      <td>0.4380</td>\n",
       "      <td>-0.0656</td>\n",
       "      <td>-0.5616</td>\n",
       "      <td>-0.8404</td>\n",
       "      <td>-0.9704</td>\n",
       "      <td>-0.9972</td>\n",
       "    </tr>\n",
       "    <tr>\n",
       "      <th>N=20</th>\n",
       "      <td>0.9940</td>\n",
       "      <td>0.9832</td>\n",
       "      <td>0.9184</td>\n",
       "      <td>0.7352</td>\n",
       "      <td>0.3832</td>\n",
       "      <td>-0.1036</td>\n",
       "      <td>-0.5996</td>\n",
       "      <td>-0.8936</td>\n",
       "      <td>-0.9780</td>\n",
       "      <td>-0.9984</td>\n",
       "    </tr>\n",
       "    <tr>\n",
       "      <th>N=25</th>\n",
       "      <td>0.9956</td>\n",
       "      <td>0.9744</td>\n",
       "      <td>0.8996</td>\n",
       "      <td>0.7108</td>\n",
       "      <td>0.3456</td>\n",
       "      <td>-0.1524</td>\n",
       "      <td>-0.6384</td>\n",
       "      <td>-0.9004</td>\n",
       "      <td>-0.9876</td>\n",
       "      <td>-0.9984</td>\n",
       "    </tr>\n",
       "    <tr>\n",
       "      <th>N=30</th>\n",
       "      <td>0.9952</td>\n",
       "      <td>0.9724</td>\n",
       "      <td>0.9020</td>\n",
       "      <td>0.7076</td>\n",
       "      <td>0.3292</td>\n",
       "      <td>-0.2192</td>\n",
       "      <td>-0.6736</td>\n",
       "      <td>-0.9132</td>\n",
       "      <td>-0.9884</td>\n",
       "      <td>-0.9996</td>\n",
       "    </tr>\n",
       "  </tbody>\n",
       "</table>\n",
       "</div>"
      ],
      "text/plain": [
       "      $\\eta=$0.45  $\\eta=$0.46111111111111114  $\\eta=$0.47222222222222227  \\\n",
       "N=1        0.9992                      0.9992                      0.9848   \n",
       "N=5        0.9984                      0.9892                      0.9548   \n",
       "N=10       0.9980                      0.9888                      0.9348   \n",
       "N=15       0.9972                      0.9820                      0.9336   \n",
       "N=20       0.9940                      0.9832                      0.9184   \n",
       "N=25       0.9956                      0.9744                      0.8996   \n",
       "N=30       0.9952                      0.9724                      0.9020   \n",
       "\n",
       "      $\\eta=$0.48333333333333334  $\\eta=$0.49444444444444446  \\\n",
       "N=1                       0.9404                      0.8224   \n",
       "N=5                       0.8532                      0.6284   \n",
       "N=10                      0.7912                      0.4960   \n",
       "N=15                      0.7576                      0.4380   \n",
       "N=20                      0.7352                      0.3832   \n",
       "N=25                      0.7108                      0.3456   \n",
       "N=30                      0.7076                      0.3292   \n",
       "\n",
       "      $\\eta=$0.5055555555555555  $\\eta=$0.5166666666666667  \\\n",
       "N=1                      0.6020                     0.2348   \n",
       "N=5                      0.1928                    -0.2808   \n",
       "N=10                     0.0452                    -0.4644   \n",
       "N=15                    -0.0656                    -0.5616   \n",
       "N=20                    -0.1036                    -0.5996   \n",
       "N=25                    -0.1524                    -0.6384   \n",
       "N=30                    -0.2192                    -0.6736   \n",
       "\n",
       "      $\\eta=$0.5277777777777778  $\\eta=$0.538888888888889  $\\eta=$0.55  \n",
       "N=1                     -0.2376                   -0.6244      -0.8628  \n",
       "N=5                     -0.6968                   -0.9092      -0.9824  \n",
       "N=10                    -0.8248                   -0.9580      -0.9960  \n",
       "N=15                    -0.8404                   -0.9704      -0.9972  \n",
       "N=20                    -0.8936                   -0.9780      -0.9984  \n",
       "N=25                    -0.9004                   -0.9876      -0.9984  \n",
       "N=30                    -0.9132                   -0.9884      -0.9996  "
      ]
     },
     "execution_count": 5,
     "metadata": {},
     "output_type": "execute_result"
    }
   ],
   "source": [
    "N_name = []\n",
    "for i in N_list:\n",
    "    N_name.append('N='+str(i))\n",
    "eta_name = []\n",
    "for j in eta_list:\n",
    "    eta_name.append(r'$\\eta=$'+str(j))\n",
    "import pandas as pd\n",
    "df = pd.DataFrame(data = prob_list, index=N_name, columns = eta_name)\n",
    "df"
   ]
  },
  {
   "cell_type": "code",
   "execution_count": 128,
   "id": "e65cf011",
   "metadata": {},
   "outputs": [
    {
     "data": {
      "text/html": [
       "<div>\n",
       "<style scoped>\n",
       "    .dataframe tbody tr th:only-of-type {\n",
       "        vertical-align: middle;\n",
       "    }\n",
       "\n",
       "    .dataframe tbody tr th {\n",
       "        vertical-align: top;\n",
       "    }\n",
       "\n",
       "    .dataframe thead th {\n",
       "        text-align: right;\n",
       "    }\n",
       "</style>\n",
       "<table border=\"1\" class=\"dataframe\">\n",
       "  <thead>\n",
       "    <tr style=\"text-align: right;\">\n",
       "      <th></th>\n",
       "      <th>$\\eta=$0.1</th>\n",
       "      <th>$\\eta=$0.2</th>\n",
       "      <th>$\\eta=$0.3</th>\n",
       "      <th>$\\eta=$0.4</th>\n",
       "      <th>$\\eta=$0.5</th>\n",
       "      <th>$\\eta=$0.6</th>\n",
       "      <th>$\\eta=$0.7</th>\n",
       "      <th>$\\eta=$0.8</th>\n",
       "      <th>$\\eta=$0.9</th>\n",
       "    </tr>\n",
       "  </thead>\n",
       "  <tbody>\n",
       "    <tr>\n",
       "      <th>N=1</th>\n",
       "      <td>1.0</td>\n",
       "      <td>1.0</td>\n",
       "      <td>1.0</td>\n",
       "      <td>1.0</td>\n",
       "      <td>0.852</td>\n",
       "      <td>0.0</td>\n",
       "      <td>0.0</td>\n",
       "      <td>0.0</td>\n",
       "      <td>0.0</td>\n",
       "    </tr>\n",
       "    <tr>\n",
       "      <th>N=5</th>\n",
       "      <td>1.0</td>\n",
       "      <td>1.0</td>\n",
       "      <td>1.0</td>\n",
       "      <td>1.0</td>\n",
       "      <td>0.682</td>\n",
       "      <td>0.0</td>\n",
       "      <td>0.0</td>\n",
       "      <td>0.0</td>\n",
       "      <td>0.0</td>\n",
       "    </tr>\n",
       "    <tr>\n",
       "      <th>N=10</th>\n",
       "      <td>1.0</td>\n",
       "      <td>1.0</td>\n",
       "      <td>1.0</td>\n",
       "      <td>1.0</td>\n",
       "      <td>0.652</td>\n",
       "      <td>0.0</td>\n",
       "      <td>0.0</td>\n",
       "      <td>0.0</td>\n",
       "      <td>0.0</td>\n",
       "    </tr>\n",
       "    <tr>\n",
       "      <th>N=15</th>\n",
       "      <td>1.0</td>\n",
       "      <td>1.0</td>\n",
       "      <td>1.0</td>\n",
       "      <td>1.0</td>\n",
       "      <td>0.593</td>\n",
       "      <td>0.0</td>\n",
       "      <td>0.0</td>\n",
       "      <td>0.0</td>\n",
       "      <td>0.0</td>\n",
       "    </tr>\n",
       "    <tr>\n",
       "      <th>N=20</th>\n",
       "      <td>1.0</td>\n",
       "      <td>1.0</td>\n",
       "      <td>1.0</td>\n",
       "      <td>1.0</td>\n",
       "      <td>0.533</td>\n",
       "      <td>0.0</td>\n",
       "      <td>0.0</td>\n",
       "      <td>0.0</td>\n",
       "      <td>0.0</td>\n",
       "    </tr>\n",
       "    <tr>\n",
       "      <th>N=25</th>\n",
       "      <td>1.0</td>\n",
       "      <td>1.0</td>\n",
       "      <td>1.0</td>\n",
       "      <td>1.0</td>\n",
       "      <td>0.539</td>\n",
       "      <td>0.0</td>\n",
       "      <td>0.0</td>\n",
       "      <td>0.0</td>\n",
       "      <td>0.0</td>\n",
       "    </tr>\n",
       "    <tr>\n",
       "      <th>N=30</th>\n",
       "      <td>1.0</td>\n",
       "      <td>1.0</td>\n",
       "      <td>1.0</td>\n",
       "      <td>1.0</td>\n",
       "      <td>0.551</td>\n",
       "      <td>0.0</td>\n",
       "      <td>0.0</td>\n",
       "      <td>0.0</td>\n",
       "      <td>0.0</td>\n",
       "    </tr>\n",
       "  </tbody>\n",
       "</table>\n",
       "</div>"
      ],
      "text/plain": [
       "      $\\eta=$0.1  $\\eta=$0.2  $\\eta=$0.3  $\\eta=$0.4  $\\eta=$0.5  $\\eta=$0.6  \\\n",
       "N=1          1.0         1.0         1.0         1.0       0.852         0.0   \n",
       "N=5          1.0         1.0         1.0         1.0       0.682         0.0   \n",
       "N=10         1.0         1.0         1.0         1.0       0.652         0.0   \n",
       "N=15         1.0         1.0         1.0         1.0       0.593         0.0   \n",
       "N=20         1.0         1.0         1.0         1.0       0.533         0.0   \n",
       "N=25         1.0         1.0         1.0         1.0       0.539         0.0   \n",
       "N=30         1.0         1.0         1.0         1.0       0.551         0.0   \n",
       "\n",
       "      $\\eta=$0.7  $\\eta=$0.8  $\\eta=$0.9  \n",
       "N=1          0.0         0.0         0.0  \n",
       "N=5          0.0         0.0         0.0  \n",
       "N=10         0.0         0.0         0.0  \n",
       "N=15         0.0         0.0         0.0  \n",
       "N=20         0.0         0.0         0.0  \n",
       "N=25         0.0         0.0         0.0  \n",
       "N=30         0.0         0.0         0.0  "
      ]
     },
     "execution_count": 128,
     "metadata": {},
     "output_type": "execute_result"
    }
   ],
   "source": [
    "N_name = []\n",
    "for i in N_list:\n",
    "    N_name.append('N='+str(i))\n",
    "eta_name = []\n",
    "for j in eta_list:\n",
    "    eta_name.append(r'$\\eta=$'+str(j))\n",
    "import pandas as pd\n",
    "df = pd.DataFrame(data = prob_list, index=N_name, columns = eta_name)\n",
    "df"
   ]
  },
  {
   "cell_type": "code",
   "execution_count": 15,
   "id": "65d79b5c",
   "metadata": {},
   "outputs": [
    {
     "name": "stderr",
     "output_type": "stream",
     "text": [
      "C:\\ProgramData\\Anaconda3\\lib\\site-packages\\ipykernel_launcher.py:20: UserWarning: linewidths is ignored by contourf\n"
     ]
    },
    {
     "data": {
      "text/plain": [
       "<Figure size 432x288 with 0 Axes>"
      ]
     },
     "execution_count": 15,
     "metadata": {},
     "output_type": "execute_result"
    },
    {
     "data": {
      "image/png": "[encoded data removed]",
      "text/plain": [
       "<Figure size 720x540 with 1 Axes>"
      ]
     },
     "metadata": {
      "needs_background": "light"
     },
     "output_type": "display_data"
    },
    {
     "data": {
      "text/plain": [
       "<Figure size 432x288 with 0 Axes>"
      ]
     },
     "metadata": {},
     "output_type": "display_data"
    }
   ],
   "source": [
    "import numpy as np\n",
    "prob_list = np.array([[ 0.9992,  0.9992,  0.9848,  0.9404,  0.8224,  0.602 ,  0.2348,\n",
    "        -0.2376, -0.6244, -0.8628],\n",
    "       [ 0.9984,  0.9892,  0.9548,  0.8532,  0.6284,  0.1928, -0.2808,\n",
    "        -0.6968, -0.9092, -0.9824],\n",
    "       [ 0.998 ,  0.9888,  0.9348,  0.7912,  0.496 ,  0.0452, -0.4644,\n",
    "        -0.8248, -0.958 , -0.996 ],\n",
    "       [ 0.9972,  0.982 ,  0.9336,  0.7576,  0.438 , -0.0656, -0.5616,\n",
    "        -0.8404, -0.9704, -0.9972],\n",
    "       [ 0.994 ,  0.9832,  0.9184,  0.7352,  0.3832, -0.1036, -0.5996,\n",
    "        -0.8936, -0.978 , -0.9984],\n",
    "       [ 0.9956,  0.9744,  0.8996,  0.7108,  0.3456, -0.1524, -0.6384,\n",
    "        -0.9004, -0.9876, -0.9984],\n",
    "       [ 0.9952,  0.9724,  0.902 ,  0.7076,  0.3292, -0.2192, -0.6736,\n",
    "        -0.9132, -0.9884, -0.9996]])\n",
    "tmp_list = np.array([ 0.        ,  0.        ,  0.        ,  0.        ,  0.        ,\n",
    "        0.        ,  0.        ,  0.        ,  0.        , -0.34084314])\n",
    "rho_list = [tmp_list, tmp_list, tmp_list, tmp_list, tmp_list, tmp_list, tmp_list]\n",
    "prob_list = 1-2*prob_list\n",
    "import matplotlib.pyplot as plt\n",
    "fig=plt.figure(figsize=(10,7.5))\n",
    "Y = np.array( [1,5,10,15,20,25,30])\n",
    "X = np.linspace(0.45,0.55,10)\n",
    "# xx, yy = np.meshgrid(X, Y)\n",
    "# zz = calcul_prob(xx, num, yy, var)\n",
    "# fig=plt.figure(figsize=(8,8))\n",
    "C = plt.contourf(X, Y, prob_list, linewidths = (2))\n",
    "plt.clabel(C, fmt='%2.1f', colors='w', fontsize=14, inline = False)\n",
    "plt.contour(X, Y, prob_list, [0.], colors = 'r', linewidths = (3))\n",
    "# plt.contour(X, Y, rho_list, [0.], colors = 'orange', linewidths = (3))\n",
    "plt.xlabel(r'Stepsize $\\eta$',fontsize=25)\n",
    "plt.ylabel(r'Nodes $N$',fontsize=25)\n",
    "plt.tick_params(labelsize=25)\n",
    "\n",
    "# plt.text(0.45, 7, r'$\\hat{\\rho}_{dis}<0 $', fontsize = 25, color = 'w')\n",
    "# plt.text(0.5, 5, r'$\\hat{\\rho}_{dis}>0$:'+'\\n'+'Dis-SGD diverges.', fontsize = 25, color = 'w')\n",
    "\n",
    "plt.figure()"
   ]
  },
  {
   "cell_type": "code",
   "execution_count": 1,
   "id": "b0aefc64",
   "metadata": {},
   "outputs": [
    {
     "name": "stderr",
     "output_type": "stream",
     "text": [
      "C:\\ProgramData\\Anaconda3\\lib\\site-packages\\ipykernel_launcher.py:20: UserWarning: linewidths is ignored by contourf\n"
     ]
    },
    {
     "data": {
      "text/plain": [
       "<Figure size 432x288 with 0 Axes>"
      ]
     },
     "execution_count": 1,
     "metadata": {},
     "output_type": "execute_result"
    },
    {
     "data": {
      "image/png": "[encoded data removed]",
      "text/plain": [
       "<Figure size 1008x540 with 1 Axes>"
      ]
     },
     "metadata": {
      "needs_background": "light"
     },
     "output_type": "display_data"
    },
    {
     "data": {
      "text/plain": [
       "<Figure size 432x288 with 0 Axes>"
      ]
     },
     "metadata": {},
     "output_type": "display_data"
    }
   ],
   "source": [
    "import numpy as np\n",
    "prob_list = np.array([[1.   , 1.   , 1.   , 1.   , 0.852, 0.   , 0.   , 0.   , 0.   ],\n",
    "       [1.   , 1.   , 1.   , 1.   , 0.682, 0.   , 0.   , 0.   , 0.   ],\n",
    "       [1.   , 1.   , 1.   , 1.   , 0.652, 0.   , 0.   , 0.   , 0.   ],\n",
    "       [1.   , 1.   , 1.   , 1.   , 0.593, 0.   , 0.   , 0.   , 0.   ],\n",
    "       [1.   , 1.   , 1.   , 1.   , 0.533, 0.   , 0.   , 0.   , 0.   ],\n",
    "       [1.   , 1.   , 1.   , 1.   , 0.539, 0.   , 0.   , 0.   , 0.   ],\n",
    "       [1.   , 1.   , 1.   , 1.   , 0.551, 0.   , 0.   , 0.   , 0.   ]])\n",
    "tmp_list = np.array([-0.3279205 , -0.19344247,  0.18597807,  0.52697797,  0.79291211,\n",
    "        1.0083382 ,  1.19082015,  1.34471956,  1.48283386])\n",
    "rho_list = [tmp_list, tmp_list, tmp_list, tmp_list, tmp_list, tmp_list, tmp_list]\n",
    "prob_list = 1-2*prob_list\n",
    "import matplotlib.pyplot as plt\n",
    "fig=plt.figure(figsize=(14,7.5))\n",
    "Y = np.array([1,5,10,15,20,25,30])\n",
    "X = np.array([0.1, 0.2, 0.3, 0.4, 0.5, 0.6, 0.7, 0.8, 0.9])\n",
    "# xx, yy = np.meshgrid(X, Y)\n",
    "# zz = calcul_prob(xx, num, yy, var)\n",
    "# fig=plt.figure(figsize=(8,8))\n",
    "C = plt.contourf(X, Y, prob_list, linewidths = (2))\n",
    "plt.clabel(C, fmt='%2.1f', colors='w', fontsize=14, inline = False)\n",
    "plt.contour(X, Y, prob_list, [0.], colors = 'r', linewidths = (3))\n",
    "plt.contour(X, Y, rho_list, [0.], colors = 'orange', linewidths = (3))\n",
    "plt.xlabel(r'Stepsize $\\eta$',fontsize=25)\n",
    "plt.ylabel(r'Nodes $N$',fontsize=25)\n",
    "plt.tick_params(labelsize=25)\n",
    "\n",
    "plt.text(0.12, 7, r'$\\hat{\\rho}_{dis}<0 $', fontsize = 25, color = 'w')\n",
    "plt.text(0.3, 5, r'$\\hat{\\rho}_{dis}>0$:'+'\\n'+'Dis-SGD diverges.', fontsize = 25, color = 'w')\n",
    "\n",
    "plt.figure()"
   ]
  },
  {
   "cell_type": "code",
   "execution_count": null,
   "id": "9bc45d08",
   "metadata": {},
   "outputs": [],
   "source": []
  }
 ],
 "metadata": {
  "kernelspec": {
   "display_name": "Python 3 (ipykernel)",
   "language": "python",
   "name": "python3"
  },
  "language_info": {
   "codemirror_mode": {
    "name": "ipython",
    "version": 3
   },
   "file_extension": ".py",
   "mimetype": "text/x-python",
   "name": "python",
   "nbconvert_exporter": "python",
   "pygments_lexer": "ipython3",
   "version": "3.7.3"
  }
 },
 "nbformat": 4,
 "nbformat_minor": 5
}
