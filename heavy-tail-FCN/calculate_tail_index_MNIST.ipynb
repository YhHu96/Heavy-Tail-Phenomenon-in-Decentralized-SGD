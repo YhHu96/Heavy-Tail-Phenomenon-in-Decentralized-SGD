{
 "cells": [
  {
   "cell_type": "code",
   "execution_count": 17,
   "metadata": {},
   "outputs": [],
   "source": [
    "import os\n",
    "import numpy as np\n",
    "import torch\n",
    "import itertools\n",
    "import matplotlib.pyplot as plt\n",
    "%matplotlib inline\n",
    "import torch.nn as nn\n",
    "import torch.optim as optim\n",
    "import torch.nn.functional as F\n",
    "import math\n",
    "from tqdm import tqdm\n",
    "import time"
   ]
  },
  {
   "cell_type": "code",
   "execution_count": 18,
   "metadata": {},
   "outputs": [],
   "source": [
    "# Corollary 2.4 in Mohammadi 2014 - for 1d\n",
    "def alpha_estimator_one(m, X):\n",
    "    N = len(X)\n",
    "    n = int(N/m) # must be an integer\n",
    "    \n",
    "    X = X[0:n*m]\n",
    "    \n",
    "    Y = np.sum(X.reshape(n, m),1)\n",
    "    eps = np.spacing(1)\n",
    "\n",
    "    Y_log_norm =  np.log(np.abs(Y) + eps).mean()\n",
    "    X_log_norm =  np.log(np.abs(X) + eps).mean()\n",
    "    diff = (Y_log_norm - X_log_norm) / math.log(m)\n",
    "    return 1 / diff"
   ]
  },
  {
   "cell_type": "code",
   "execution_count": 19,
   "metadata": {},
   "outputs": [],
   "source": [
    "# Corollary 2.4 in Mohammadi 2014 - for multi-d\n",
    "def alpha_estimator_multi(m, X):\n",
    "    # X is N by d matrix\n",
    "    N = X.size()[0]   \n",
    "    n = int(N/m) # must be an integer\n",
    "#     print(N,n)\n",
    "    X = X[0:n*m,:]\n",
    "#     print(X.size())\n",
    "    Y = torch.sum(X.view(n, m, -1), 1)\n",
    "    eps = np.spacing(1)\n",
    "    Y_log_norm = torch.log(Y.norm(dim=1) + eps).mean()\n",
    "    X_log_norm = torch.log(X.norm(dim=1) + eps).mean()\n",
    "    diff = (Y_log_norm - X_log_norm) / math.log(m)\n",
    "    return 1 / diff.item()"
   ]
  },
  {
   "cell_type": "code",
   "execution_count": 20,
   "metadata": {},
   "outputs": [],
   "source": [
    "class simpleNet(nn.Module):\n",
    "\n",
    "    def __init__(self, input_dim=28*28 , width=128, depth=3, num_classes=10):\n",
    "        super(simpleNet, self).__init__()\n",
    "        self.input_dim = input_dim \n",
    "        self.width = width\n",
    "        self.depth = depth\n",
    "        self.num_classes = num_classes\n",
    "        \n",
    "        layers = self.get_layers()\n",
    "\n",
    "        self.fc = nn.Sequential(\n",
    "            nn.Linear(self.input_dim, self.width, bias=False),\n",
    "            nn.ReLU(inplace=True),\n",
    "            *layers,\n",
    "            nn.Linear(self.width, self.num_classes, bias=False),\n",
    "        )\n",
    "\n",
    "    def get_layers(self):\n",
    "        layers = []\n",
    "        for i in range(self.depth - 2):\n",
    "            layers.append(nn.Linear(self.width, self.width, bias=False))\n",
    "            layers.append(nn.ReLU())\n",
    "        return layers\n",
    "\n",
    "    def forward(self, x):\n",
    "        x = x.view(x.size(0), self.input_dim)\n",
    "        x = self.fc(x)\n",
    "        return x"
   ]
  },
  {
   "cell_type": "code",
   "execution_count": 21,
   "metadata": {},
   "outputs": [],
   "source": [
    "# PATH = './3FCN-MNIST/'\n",
    "# lr_list = np.linspace(0.001,0.1,20)\n",
    "PATH = './3FCN-MNIST-decentralized/'\n",
    "lr_list = np.linspace(0.01,0.4,10)\n",
    "\n",
    "depth = 3\n",
    "num_nets = 900\n",
    "nets = []\n",
    "        "
   ]
  },
  {
   "cell_type": "code",
   "execution_count": null,
   "metadata": {},
   "outputs": [],
   "source": []
  },
  {
   "cell_type": "code",
   "execution_count": 22,
   "metadata": {},
   "outputs": [],
   "source": [
    "def get_layerWise(net):\n",
    "    w = []\n",
    "    flag=0\n",
    "    for p in net.parameters():    \n",
    "        if p.requires_grad:\n",
    "            if flag==1:\n",
    "#                 w[-1]=torch.cat((w[-1],p.view(-1,1)),1)\n",
    "                flag=0\n",
    "            else:\n",
    "                flag=1\n",
    "                w.append(p)\n",
    "    for i in range(len(w)):\n",
    "        w[i]=w[i].detach().numpy()\n",
    "    res=np.array(w)\n",
    "    return res"
   ]
  },
  {
   "cell_type": "code",
   "execution_count": 23,
   "metadata": {},
   "outputs": [],
   "source": [
    "def compute_alphas_centralized(etas, PATH, depth):\n",
    "    alphas_mc    = np.zeros((len(etas), depth))-1\n",
    "    alphas_multi = np.zeros((len(etas), depth))-1\n",
    "    alphas_single= np.zeros(len(etas))-1\n",
    "    alphas_haus    = np.zeros((len(etas), depth))-1\n",
    "    \n",
    "    \n",
    "    \n",
    "    for ei, eta in tqdm(enumerate(etas)):\n",
    "        \n",
    "        tmp_path = PATH + 'LR{}/'.format(ei)\n",
    "        print(tmp_path)\n",
    "        \n",
    "        weights = []\n",
    "        weights_unfold = []\n",
    "        weights_unfold_merge = []\n",
    "        for i in range(depth):\n",
    "            weights.append([])\n",
    "            weights_unfold.append([])\n",
    "\n",
    "        # record the layers in different arrays\n",
    "        for i in range(num_nets):\n",
    "            tmp_path_mod = tmp_path + 'model{}'.format(i+1) +'.pth'\n",
    "            tmp_net = torch.load(tmp_path_mod,map_location='cpu')\n",
    "#             layerwise_list = get_layerWise(tmp_net)\n",
    "            for ix, p in enumerate(tmp_net.parameters()):\n",
    "                layer = p.detach().numpy()\n",
    "                if(i == 0):\n",
    "                    weights_unfold[ix] = layer / (num_nets * 1.0)\n",
    "                else:\n",
    "                    weights_unfold[ix] += layer / (num_nets * 1.0)\n",
    "\n",
    "\n",
    "                layer = layer.reshape(-1,1)\n",
    "                weights[ix].append(layer)\n",
    "\n",
    "        for i in range(depth):\n",
    "            weights[i] = np.concatenate(weights[i], axis = 1)  \n",
    "\n",
    "\n",
    "\n",
    "\n",
    "\n",
    "        for i in range(depth):\n",
    "            tmp_mean    = np.mean(weights_unfold[i], axis=0)\n",
    "\n",
    "            tmp_mean    = tmp_mean[..., np.newaxis]\n",
    "            tmp_weights = weights_unfold[i] - tmp_mean.T\n",
    "            print(tmp_weights.shape)\n",
    "            alphas_multi[ei,i] = np.median([alpha_estimator_multi(mm, torch.from_numpy(tmp_weights)) for mm in (2, 5, 10)])\n",
    "\n",
    "\n",
    "\n",
    "        for i in range(depth):\n",
    "            tmp_mean    = np.mean(weights[i], axis=1)\n",
    "            tmp_mean    = tmp_mean[..., np.newaxis]\n",
    "            tmp_weights = weights[i] - tmp_mean\n",
    "            tmp_weights = tmp_weights.reshape(-1,1)     \n",
    "            tmp_alphas = [alpha_estimator_one(mm, tmp_weights) for mm in (2, 5, 10, 20, 50, 100, 500, 1000)]\n",
    "            alphas_haus[ei,i] = np.median(tmp_alphas)\n",
    "#             print(tmp_alphas)\n",
    "\n",
    "\n",
    "        for i in range(depth):\n",
    "            tmp_weights = np.mean(weights[i], axis=1)\n",
    "            tmp_weights = tmp_weights.reshape(-1,1)\n",
    "            tmp_weights = tmp_weights - np.mean(tmp_weights)\n",
    "            tmp_alphas = [alpha_estimator_one(mm, tmp_weights) for mm in (2, 5, 10, 20, 50, 100, 500, 1000)]\n",
    "            alphas_mc[ei,i] = np.median(tmp_alphas)\n",
    "\n",
    "\n",
    "\n",
    "    return alphas_mc, alphas_multi, alphas_haus\n"
   ]
  },
  {
   "cell_type": "code",
   "execution_count": 24,
   "metadata": {},
   "outputs": [],
   "source": [
    "def compute_alphas(etas, PATH, depth, node_path):\n",
    "    alphas_mc    = np.zeros((len(etas), depth))-1\n",
    "    alphas_multi = np.zeros((len(etas), depth))-1\n",
    "    alphas_single= np.zeros(len(etas))-1\n",
    "    alphas_haus    = np.zeros((len(etas), depth))-1\n",
    "    \n",
    "    \n",
    "    \n",
    "    for ei, eta in tqdm(enumerate(etas)):\n",
    "        \n",
    "        tmp_path = PATH + 'LR{}/'.format(ei) + node_path + '/'\n",
    "        print(tmp_path)\n",
    "        \n",
    "        weights = []\n",
    "        weights_unfold = []\n",
    "        weights_unfold_merge = []\n",
    "        for i in range(depth):\n",
    "            weights.append([])\n",
    "            weights_unfold.append([])\n",
    "\n",
    "        # record the layers in different arrays\n",
    "        for i in range(num_nets):\n",
    "            tmp_path_mod = tmp_path + 'model{}'.format(i) +'.pth'\n",
    "            tmp_net = torch.load(tmp_path_mod,map_location='cpu')\n",
    "#             layerwise_list = get_layerWise(tmp_net)\n",
    "            for  ix, p in enumerate(tmp_net.parameters()):\n",
    "                layer = p.detach().numpy()\n",
    "                if(i == 0):\n",
    "                    weights_unfold[ix] = layer / (num_nets * 1.0)\n",
    "                else:\n",
    "                    weights_unfold[ix] += layer / (num_nets * 1.0)\n",
    "\n",
    "\n",
    "                layer = layer.reshape(-1,1)\n",
    "                weights[ix].append(layer)\n",
    "\n",
    "        for i in range(depth):\n",
    "            weights[i] = np.concatenate(weights[i], axis = 1)  \n",
    "\n",
    "\n",
    "\n",
    "\n",
    "\n",
    "        for i in range(depth):\n",
    "            tmp_mean    = np.mean(weights_unfold[i], axis=0)\n",
    "#             print(tmp_mean.shape)\n",
    "            tmp_mean    = tmp_mean[..., np.newaxis]\n",
    "            tmp_weights = weights_unfold[i] - tmp_mean.T\n",
    "            \n",
    "            print(tmp_weights.shape)\n",
    "            alphas_multi[ei,i] = np.median([alpha_estimator_multi(mm, torch.from_numpy(tmp_weights)) for mm in (2, 5, 10)])\n",
    "#             alphas_multi[ei,i] = alpha_estimator_multi(30, torch.from_numpy(tmp_weights)) \n",
    "#  can do: transpose the tmp_weights\n",
    "\n",
    "\n",
    "        for i in range(depth):\n",
    "            tmp_mean    = np.mean(weights[i], axis=1)\n",
    "            tmp_mean    = tmp_mean[..., np.newaxis]\n",
    "            tmp_weights = weights[i] - tmp_mean\n",
    "            tmp_weights = tmp_weights.reshape(-1,1)     \n",
    "#             print(tmp_weights.shape)\n",
    "            tmp_alphas = [alpha_estimator_one(mm, tmp_weights) for mm in (2, 5, 10, 20, 50, 100, 500, 1000)]\n",
    "            alphas_haus[ei,i] = np.median(tmp_alphas)\n",
    "#             alphas_haus[ei,i] = alpha_estimator_one(30, tmp_weights)\n",
    "#             print(tmp_alphas)\n",
    "\n",
    "\n",
    "        for i in range(depth):\n",
    "            tmp_weights = np.mean(weights[i], axis=1)\n",
    "            tmp_weights = tmp_weights.reshape(-1,1)\n",
    "            tmp_weights = tmp_weights - np.mean(tmp_weights)\n",
    "            tmp_alphas = [alpha_estimator_one(mm, tmp_weights) for mm in (2, 5, 10, 20, 50, 100, 500, 1000)]\n",
    "            alphas_mc[ei,i] = np.median(tmp_alphas)\n",
    "#             alphas_mc[ei,i] = alpha_estimator_one(30, tmp_weights)\n",
    "\n",
    "\n",
    "\n",
    "    return alphas_mc, alphas_multi, alphas_haus\n"
   ]
  },
  {
   "cell_type": "code",
   "execution_count": 25,
   "metadata": {
    "scrolled": true
   },
   "outputs": [
    {
     "name": "stderr",
     "output_type": "stream",
     "text": [
      "0it [00:00, ?it/s]C:\\ProgramData\\Anaconda3\\lib\\site-packages\\torch\\serialization.py:559: UserWarning: Couldn't retrieve source code for container of type simpleNet. It won't be checked for correctness upon loading.\n",
      "  \"type \" + container_type.__name__ + \". It won't be checked \"\n"
     ]
    },
    {
     "name": "stdout",
     "output_type": "stream",
     "text": [
      "./3FCN-MNIST-decentralized-umut-10-hyper/LR0/node0/\n",
      "(128, 784)\n",
      "(128, 128)\n",
      "(10, 128)\n"
     ]
    },
    {
     "name": "stderr",
     "output_type": "stream",
     "text": [
      "\r",
      "1it [01:26, 86.18s/it]"
     ]
    },
    {
     "name": "stdout",
     "output_type": "stream",
     "text": [
      "./3FCN-MNIST-decentralized-umut-10-hyper/LR1/node0/\n",
      "(128, 784)\n",
      "(128, 128)\n",
      "(10, 128)\n"
     ]
    },
    {
     "name": "stderr",
     "output_type": "stream",
     "text": [
      "\r",
      "2it [03:06, 90.28s/it]"
     ]
    },
    {
     "name": "stdout",
     "output_type": "stream",
     "text": [
      "./3FCN-MNIST-decentralized-umut-10-hyper/LR2/node0/\n",
      "(128, 784)\n",
      "(128, 128)\n",
      "(10, 128)\n"
     ]
    },
    {
     "name": "stderr",
     "output_type": "stream",
     "text": [
      "\r",
      "3it [05:10, 100.50s/it]"
     ]
    },
    {
     "name": "stdout",
     "output_type": "stream",
     "text": [
      "./3FCN-MNIST-decentralized-umut-10-hyper/LR3/node0/\n",
      "(128, 784)\n",
      "(128, 128)\n",
      "(10, 128)\n"
     ]
    },
    {
     "name": "stderr",
     "output_type": "stream",
     "text": [
      "\r",
      "4it [07:04, 104.65s/it]"
     ]
    },
    {
     "name": "stdout",
     "output_type": "stream",
     "text": [
      "./3FCN-MNIST-decentralized-umut-10-hyper/LR4/node0/\n",
      "(128, 784)\n",
      "(128, 128)\n",
      "(10, 128)\n"
     ]
    },
    {
     "name": "stderr",
     "output_type": "stream",
     "text": [
      "\r",
      "5it [07:38, 83.32s/it] "
     ]
    },
    {
     "name": "stdout",
     "output_type": "stream",
     "text": [
      "./3FCN-MNIST-decentralized-umut-10-hyper/LR5/node0/\n",
      "(128, 784)\n",
      "(128, 128)\n",
      "(10, 128)\n"
     ]
    },
    {
     "name": "stderr",
     "output_type": "stream",
     "text": [
      "\r",
      "6it [08:09, 67.83s/it]"
     ]
    },
    {
     "name": "stdout",
     "output_type": "stream",
     "text": [
      "./3FCN-MNIST-decentralized-umut-10-hyper/LR6/node0/\n",
      "(128, 784)\n",
      "(128, 128)\n",
      "(10, 128)\n"
     ]
    },
    {
     "name": "stderr",
     "output_type": "stream",
     "text": [
      "\r",
      "7it [08:41, 56.88s/it]"
     ]
    },
    {
     "name": "stdout",
     "output_type": "stream",
     "text": [
      "./3FCN-MNIST-decentralized-umut-10-hyper/LR7/node0/\n",
      "(128, 784)\n",
      "(128, 128)\n",
      "(10, 128)\n"
     ]
    },
    {
     "name": "stderr",
     "output_type": "stream",
     "text": [
      "\r",
      "8it [09:13, 49.45s/it]"
     ]
    },
    {
     "name": "stdout",
     "output_type": "stream",
     "text": [
      "./3FCN-MNIST-decentralized-umut-10-hyper/LR8/node0/\n",
      "(128, 784)\n",
      "(128, 128)\n",
      "(10, 128)\n"
     ]
    },
    {
     "name": "stderr",
     "output_type": "stream",
     "text": [
      "\r",
      "9it [09:48, 45.26s/it]"
     ]
    },
    {
     "name": "stdout",
     "output_type": "stream",
     "text": [
      "./3FCN-MNIST-decentralized-umut-10-hyper/LR9/node0/\n",
      "(128, 784)\n",
      "(128, 128)\n",
      "(10, 128)\n"
     ]
    },
    {
     "name": "stderr",
     "output_type": "stream",
     "text": [
      "\r",
      "10it [10:21, 41.54s/it]"
     ]
    },
    {
     "name": "stdout",
     "output_type": "stream",
     "text": [
      "./3FCN-MNIST-decentralized-umut-10-hyper/LR10/node0/\n",
      "(128, 784)\n",
      "(128, 128)\n",
      "(10, 128)\n"
     ]
    },
    {
     "name": "stderr",
     "output_type": "stream",
     "text": [
      "\r",
      "11it [11:01, 41.12s/it]"
     ]
    },
    {
     "name": "stdout",
     "output_type": "stream",
     "text": [
      "./3FCN-MNIST-decentralized-umut-10-hyper/LR11/node0/\n",
      "(128, 784)\n",
      "(128, 128)\n",
      "(10, 128)\n"
     ]
    },
    {
     "name": "stderr",
     "output_type": "stream",
     "text": [
      "12it [11:37, 58.16s/it]\n"
     ]
    }
   ],
   "source": [
    "PATH = './3FCN-MNIST-decentralized-umut-10-hyper/'\n",
    "lr_list = [0.0001,\n",
    "0.001,\n",
    "0.01,\n",
    "0.015,\n",
    "0.02,\n",
    "0.025,\n",
    "0.03,\n",
    "0.04,\n",
    "0.045,\n",
    "0.05,\n",
    "0.06,\n",
    "0.075]\n",
    "\n",
    "depth = 3\n",
    "num_nets = 1000\n",
    "nets = []\n",
    "alphas_mc_nodes = []\n",
    "alphas_multi_nodes = []\n",
    "alphas_haus_nodes = []\n",
    "\n",
    "for i in range(1):\n",
    "    alphas_mc, alphas_multi,  alphas_haus  = compute_alphas(lr_list, PATH, depth, 'node{}'.format(i))\n",
    "    alphas_mc_nodes.append(alphas_mc)\n",
    "    alphas_multi_nodes.append(alphas_multi)\n",
    "    alphas_haus_nodes.append(alphas_haus)\n",
    "# alphas_mc, alphas_multi,  alphas_haus  = compute_alphas(lr_list, PATH, depth)\n",
    "\n",
    "# alphas_mc_2 = compute_alphas(etas, batch_sizes, nets_2, depth)\n",
    "# alphas_mc_3 = compute_alphas(etas, batch_sizes, nets_3, depth)\n"
   ]
  },
  {
   "cell_type": "code",
   "execution_count": 10,
   "metadata": {
    "scrolled": true
   },
   "outputs": [
    {
     "name": "stderr",
     "output_type": "stream",
     "text": [
      "\r",
      "0it [00:00, ?it/s]"
     ]
    },
    {
     "name": "stdout",
     "output_type": "stream",
     "text": [
      "./3FCN-MNIST-centralized-umut-5/LR0/\n",
      "(128, 784)\n",
      "(128, 128)\n",
      "(10, 128)\n"
     ]
    },
    {
     "name": "stderr",
     "output_type": "stream",
     "text": [
      "\r",
      "1it [00:16, 16.87s/it]"
     ]
    },
    {
     "name": "stdout",
     "output_type": "stream",
     "text": [
      "./3FCN-MNIST-centralized-umut-5/LR1/\n",
      "(128, 784)\n",
      "(128, 128)\n",
      "(10, 128)\n"
     ]
    },
    {
     "name": "stderr",
     "output_type": "stream",
     "text": [
      "\r",
      "2it [00:33, 16.67s/it]"
     ]
    },
    {
     "name": "stdout",
     "output_type": "stream",
     "text": [
      "./3FCN-MNIST-centralized-umut-5/LR2/\n",
      "(128, 784)\n",
      "(128, 128)\n",
      "(10, 128)\n"
     ]
    },
    {
     "name": "stderr",
     "output_type": "stream",
     "text": [
      "\r",
      "3it [00:48, 16.18s/it]"
     ]
    },
    {
     "name": "stdout",
     "output_type": "stream",
     "text": [
      "./3FCN-MNIST-centralized-umut-5/LR3/\n",
      "(128, 784)\n",
      "(128, 128)\n",
      "(10, 128)\n"
     ]
    },
    {
     "name": "stderr",
     "output_type": "stream",
     "text": [
      "\r",
      "4it [01:03, 16.08s/it]"
     ]
    },
    {
     "name": "stdout",
     "output_type": "stream",
     "text": [
      "./3FCN-MNIST-centralized-umut-5/LR4/\n",
      "(128, 784)\n",
      "(128, 128)\n",
      "(10, 128)\n"
     ]
    },
    {
     "name": "stderr",
     "output_type": "stream",
     "text": [
      "\r",
      "5it [01:18, 15.54s/it]"
     ]
    },
    {
     "name": "stdout",
     "output_type": "stream",
     "text": [
      "./3FCN-MNIST-centralized-umut-5/LR5/\n",
      "(128, 784)\n",
      "(128, 128)\n",
      "(10, 128)\n"
     ]
    },
    {
     "name": "stderr",
     "output_type": "stream",
     "text": [
      "\r",
      "6it [01:34, 15.78s/it]"
     ]
    },
    {
     "name": "stdout",
     "output_type": "stream",
     "text": [
      "./3FCN-MNIST-centralized-umut-5/LR6/\n",
      "(128, 784)\n",
      "(128, 128)\n",
      "(10, 128)\n"
     ]
    },
    {
     "name": "stderr",
     "output_type": "stream",
     "text": [
      "\r",
      "7it [01:49, 15.41s/it]"
     ]
    },
    {
     "name": "stdout",
     "output_type": "stream",
     "text": [
      "./3FCN-MNIST-centralized-umut-5/LR7/\n",
      "(128, 784)\n",
      "(128, 128)\n",
      "(10, 128)\n"
     ]
    },
    {
     "name": "stderr",
     "output_type": "stream",
     "text": [
      "\r",
      "8it [02:04, 15.41s/it]"
     ]
    },
    {
     "name": "stdout",
     "output_type": "stream",
     "text": [
      "./3FCN-MNIST-centralized-umut-5/LR8/\n",
      "(128, 784)\n",
      "(128, 128)\n",
      "(10, 128)\n"
     ]
    },
    {
     "name": "stderr",
     "output_type": "stream",
     "text": [
      "\r",
      "9it [02:18, 14.96s/it]"
     ]
    },
    {
     "name": "stdout",
     "output_type": "stream",
     "text": [
      "./3FCN-MNIST-centralized-umut-5/LR9/\n",
      "(128, 784)\n",
      "(128, 128)\n",
      "(10, 128)\n"
     ]
    },
    {
     "name": "stderr",
     "output_type": "stream",
     "text": [
      "\r",
      "10it [02:32, 14.65s/it]"
     ]
    },
    {
     "name": "stdout",
     "output_type": "stream",
     "text": [
      "./3FCN-MNIST-centralized-umut-5/LR10/\n",
      "(128, 784)\n",
      "(128, 128)\n",
      "(10, 128)\n"
     ]
    },
    {
     "name": "stderr",
     "output_type": "stream",
     "text": [
      "\r",
      "11it [02:46, 14.39s/it]"
     ]
    },
    {
     "name": "stdout",
     "output_type": "stream",
     "text": [
      "./3FCN-MNIST-centralized-umut-5/LR11/\n",
      "(128, 784)\n",
      "(128, 128)\n",
      "(10, 128)\n"
     ]
    },
    {
     "name": "stderr",
     "output_type": "stream",
     "text": [
      "12it [02:59, 14.99s/it]\n"
     ]
    }
   ],
   "source": [
    "PATH = './3FCN-MNIST-centralized-umut-5/'\n",
    "lr_list = [0.0001,\n",
    "0.001,\n",
    "0.01,\n",
    "0.015,\n",
    "0.02,\n",
    "0.025,\n",
    "0.03,\n",
    "0.04,\n",
    "0.045,\n",
    "0.05,\n",
    "0.06,\n",
    "0.075]\n",
    "\n",
    "depth = 3\n",
    "num_nets = 1000\n",
    "nets = []\n",
    "alphas_mc_cent, alphas_multi_cent, alphas_haus_cent = compute_alphas_centralized(lr_list, PATH, depth)"
   ]
  },
  {
   "cell_type": "code",
   "execution_count": 27,
   "metadata": {},
   "outputs": [],
   "source": [
    "np.save('alphas_mc_nodes_10_hyper', alphas_mc_nodes)"
   ]
  },
  {
   "cell_type": "code",
   "execution_count": 33,
   "metadata": {},
   "outputs": [
    {
     "data": {
      "image/png": "[encoded data removed]",
      "text/plain": [
       "<Figure size 720x540 with 1 Axes>"
      ]
     },
     "metadata": {
      "needs_background": "light"
     },
     "output_type": "display_data"
    }
   ],
   "source": [
    "nodes = 8\n",
    "j = 0\n",
    "lr_list = [0.0001,\n",
    "0.001,\n",
    "0.01,\n",
    "0.015,\n",
    "0.02,\n",
    "0.025,\n",
    "0.03,\n",
    "0.04,\n",
    "0.045,\n",
    "0.05,\n",
    "0.06,\n",
    "0.075]\n",
    "import matplotlib.pyplot as plt\n",
    "fig=plt.figure(figsize=(10,7.5))\n",
    "for alpha in alphas_mc_nodes:\n",
    "    plt.plot(lr_list ,alpha[:,j],linewidth=3)\n",
    "# plt.plot(lr_list, alpha_dis_all, linewidth = 3)\n",
    "# plt.plot(lr_list, alpha_cent_all, linewidth = 3)\n",
    "plt.plot(lr_list, alphas_mc_cent[:,j], linewidth = 3)\n",
    "plt.xlabel(r'Learning rate $\\eta$',fontsize=30)\n",
    "plt.ylabel(r'$\\alpha$',fontsize=30)\n",
    "plt.tick_params(labelsize=30)\n",
    "legendList = []\n",
    "nodes_list = np.linspace(1,nodes,num = nodes)\n",
    "for i in range(nodes):\n",
    "    legendList.append('Node %1i' %nodes_list[i])\n",
    "# legendList.append('Disconnect')\n",
    "legendList.append('Centralized')\n",
    "# bbox_to_anchor=(1,0.5)\n",
    "# plt.legend(legendList,bbox_to_anchor=(0,1.02,1,0.2), loc=\"lower left\", borderaxespad=0,fontsize=30,ncol=5)\n",
    "plt.show()"
   ]
  },
  {
   "cell_type": "code",
   "execution_count": null,
   "metadata": {},
   "outputs": [],
   "source": []
  }
 ],
 "metadata": {
  "kernelspec": {
   "display_name": "Python 3 (ipykernel)",
   "language": "python",
   "name": "python3"
  },
  "language_info": {
   "codemirror_mode": {
    "name": "ipython",
    "version": 3
   },
   "file_extension": ".py",
   "mimetype": "text/x-python",
   "name": "python",
   "nbconvert_exporter": "python",
   "pygments_lexer": "ipython3",
   "version": "3.7.3"
  }
 },
 "nbformat": 4,
 "nbformat_minor": 2
}
